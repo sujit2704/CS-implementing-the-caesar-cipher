{
  "nbformat": 4,
  "nbformat_minor": 0,
  "metadata": {
    "colab": {
      "provenance": [],
      "authorship_tag": "ABX9TyPEr7aG93fiAm5B384BNJkI",
      "include_colab_link": true
    },
    "kernelspec": {
      "name": "python3",
      "display_name": "Python 3"
    },
    "language_info": {
      "name": "python"
    }
  },
  "cells": [
    {
      "cell_type": "markdown",
      "metadata": {
        "id": "view-in-github",
        "colab_type": "text"
      },
      "source": [
        "<a href=\"https://colab.research.google.com/github/sujit2704/CS-implementing-the-caesar-cipher/blob/main/task13.ipynb\" target=\"_parent\"><img src=\"https://colab.research.google.com/assets/colab-badge.svg\" alt=\"Open In Colab\"/></a>"
      ]
    },
    {
      "cell_type": "code",
      "execution_count": 1,
      "metadata": {
        "id": "fNFRssLU1gpj",
        "colab": {
          "base_uri": "https://localhost:8080/"
        },
        "outputId": "27c2af54-de6c-47ec-b1f9-097b67b95095"
      },
      "outputs": [
        {
          "output_type": "stream",
          "name": "stdout",
          "text": [
            "Found at index 3\n"
          ]
        }
      ],
      "source": [
        "def binary_search(arr, target):\n",
        "\n",
        "    left, right = 0, len(arr) - 1\n",
        "\n",
        "    while left <= right:\n",
        "\n",
        "        mid = (left + right) // 2\n",
        "\n",
        "\n",
        "        if arr[mid] == target:\n",
        "            return f\"Found at index {mid}\"\n",
        "        elif arr[mid] < target:\n",
        "\n",
        "            left = mid + 1\n",
        "        else:\n",
        "\n",
        "            right = mid - 1\n",
        "\n",
        "    return \"Not found\"\n",
        "\n",
        "\n",
        "arr = [1, 3, 5, 7, 9]\n",
        "target = 7\n",
        "\n",
        "\n",
        "result = binary_search(arr, target)\n",
        "print(result)\n"
      ]
    }
  ]
}